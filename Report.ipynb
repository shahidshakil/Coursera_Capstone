{
 "cells": [
  {
   "cell_type": "markdown",
   "metadata": {},
   "source": [
    "# Accident Severity Prediction "
   ]
  },
  {
   "cell_type": "markdown",
   "metadata": {},
   "source": [
    "#### Shahid Shakil"
   ]
  },
  {
   "cell_type": "markdown",
   "metadata": {},
   "source": [
    "# 1 Introduction"
   ]
  },
  {
   "cell_type": "markdown",
   "metadata": {},
   "source": [
    "### 1.1 Background"
   ]
  },
  {
   "cell_type": "markdown",
   "metadata": {},
   "source": [
    "<p>In  recent  years,  road  traffic  accidents  have  become one  of  the  largest  national health issues in the world and it is leading cause for deaths. The burden of road accident casualties and damage \n",
    "is  much  higher  in  developing  countries  than  in  developed  countries.  Many  factors  (driver,  environment, \n",
    "vehicle,  etc.)  are related  to  traffic  accidents,  some  of  those factors  are  more  important  in determining  the \n",
    "accident severity than others. The analytical data mining solutions can significantly be employed to determine \n",
    "and  predict  such  influential  factors among  human,  vehicle  and  environmental factors.  In this  research, the \n",
    "classification technique i.e., Logistic Regression algorithm is used to identify relevant patterns and for classifying the \n",
    "type of accident severity of various traffic accidents with the help of influential environmental features of accidents \n",
    "that can be used to build the prediction model. This technique was tested using a real dataset. A decision system \n",
    "has been built  using the model generated  by Logistic Regression  that will help decision  makers  to \n",
    "enhance the decision making process by predicting the severity of the accident. \n",
    "</p>"
   ]
  },
  {
   "cell_type": "markdown",
   "metadata": {},
   "source": [
    "### 1.2 Interest "
   ]
  },
  {
   "cell_type": "markdown",
   "metadata": {},
   "source": [
    "<p>The Governing bodies and Traffic Departments would be interested in this analysis and will benefit from the prescribed suggestions.</p>"
   ]
  },
  {
   "cell_type": "markdown",
   "metadata": {},
   "source": [
    "# 2. Data acquisition and cleaning "
   ]
  },
  {
   "cell_type": "markdown",
   "metadata": {},
   "source": [
    "### 2.1 Data sources "
   ]
  },
  {
   "cell_type": "markdown",
   "metadata": {},
   "source": [
    "<p>The data on which analysis has to be performed can be found in this Kaggle dataset https://www.kaggle.com/tsiaras/uk-road-safety-accidents-and-vehicles . The UK government collects and publishes (usually on an annual basis) detailed information about traffic accidents across the country. This information includes, but is not limited to, geographical locations, weather conditions, type of vehicles, number of casualties and vehicle maneuvers, making this a very interesting and comprehensive dataset for analysis and research.</p>\n",
    "    <ul>\n",
    "    <li>It covers a wider date range of events.</li><br>\n",
    "    <li>Most of the coded data variables have been transformed to textual strings using relevant lookup tables, enabling more efficient and \"human-readable\" analysis</li><br>\n",
    "    <li>It features detailed information about the vehicles involved in the accidents.</li>\n",
    "    </ul>\n"
   ]
  },
  {
   "cell_type": "code",
   "execution_count": null,
   "metadata": {},
   "outputs": [],
   "source": []
  }
 ],
 "metadata": {
  "kernelspec": {
   "display_name": "Python 3",
   "language": "python",
   "name": "python3"
  },
  "language_info": {
   "codemirror_mode": {
    "name": "ipython",
    "version": 3
   },
   "file_extension": ".py",
   "mimetype": "text/x-python",
   "name": "python",
   "nbconvert_exporter": "python",
   "pygments_lexer": "ipython3",
   "version": "3.6.5"
  }
 },
 "nbformat": 4,
 "nbformat_minor": 2
}
